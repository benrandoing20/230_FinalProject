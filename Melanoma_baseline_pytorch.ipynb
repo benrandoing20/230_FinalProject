{
  "nbformat": 4,
  "nbformat_minor": 0,
  "metadata": {
    "colab": {
      "provenance": [],
      "collapsed_sections": []
    },
    "kernelspec": {
      "name": "python3",
      "display_name": "Python 3"
    },
    "language_info": {
      "name": "python"
    },
    "accelerator": "GPU",
    "gpuClass": "standard",
    "widgets": {
      "application/vnd.jupyter.widget-state+json": {
        "16fcdbcd2a714363a48373ba1450ac0f": {
          "model_module": "@jupyter-widgets/controls",
          "model_name": "HBoxModel",
          "model_module_version": "1.5.0",
          "state": {
            "_dom_classes": [],
            "_model_module": "@jupyter-widgets/controls",
            "_model_module_version": "1.5.0",
            "_model_name": "HBoxModel",
            "_view_count": null,
            "_view_module": "@jupyter-widgets/controls",
            "_view_module_version": "1.5.0",
            "_view_name": "HBoxView",
            "box_style": "",
            "children": [
              "IPY_MODEL_c42a3aa34235497c92765e8dd33f8ef7",
              "IPY_MODEL_d7e96330f78541f98fef0a0e3e712ccf",
              "IPY_MODEL_8c98d698efba40dca2080ccfb0e00d45"
            ],
            "layout": "IPY_MODEL_72e68db52a154c12bf654b95d7bf08d7"
          }
        },
        "c42a3aa34235497c92765e8dd33f8ef7": {
          "model_module": "@jupyter-widgets/controls",
          "model_name": "HTMLModel",
          "model_module_version": "1.5.0",
          "state": {
            "_dom_classes": [],
            "_model_module": "@jupyter-widgets/controls",
            "_model_module_version": "1.5.0",
            "_model_name": "HTMLModel",
            "_view_count": null,
            "_view_module": "@jupyter-widgets/controls",
            "_view_module_version": "1.5.0",
            "_view_name": "HTMLView",
            "description": "",
            "description_tooltip": null,
            "layout": "IPY_MODEL_2c7457f01f284aca9413e7b219e4f1a7",
            "placeholder": "​",
            "style": "IPY_MODEL_f0a136fb7ff14d3493e6529756f67ca4",
            "value": "100%"
          }
        },
        "d7e96330f78541f98fef0a0e3e712ccf": {
          "model_module": "@jupyter-widgets/controls",
          "model_name": "FloatProgressModel",
          "model_module_version": "1.5.0",
          "state": {
            "_dom_classes": [],
            "_model_module": "@jupyter-widgets/controls",
            "_model_module_version": "1.5.0",
            "_model_name": "FloatProgressModel",
            "_view_count": null,
            "_view_module": "@jupyter-widgets/controls",
            "_view_module_version": "1.5.0",
            "_view_name": "ProgressView",
            "bar_style": "success",
            "description": "",
            "description_tooltip": null,
            "layout": "IPY_MODEL_57bb158c0ff1459a9f90564b62918785",
            "max": 102540417,
            "min": 0,
            "orientation": "horizontal",
            "style": "IPY_MODEL_5c401394c4de457782a911a20918170f",
            "value": 102540417
          }
        },
        "8c98d698efba40dca2080ccfb0e00d45": {
          "model_module": "@jupyter-widgets/controls",
          "model_name": "HTMLModel",
          "model_module_version": "1.5.0",
          "state": {
            "_dom_classes": [],
            "_model_module": "@jupyter-widgets/controls",
            "_model_module_version": "1.5.0",
            "_model_name": "HTMLModel",
            "_view_count": null,
            "_view_module": "@jupyter-widgets/controls",
            "_view_module_version": "1.5.0",
            "_view_name": "HTMLView",
            "description": "",
            "description_tooltip": null,
            "layout": "IPY_MODEL_377826b0708d414a8c0e14d5c36de4a0",
            "placeholder": "​",
            "style": "IPY_MODEL_4bedd1f681c044da9b39997ede720200",
            "value": " 97.8M/97.8M [00:02&lt;00:00, 52.3MB/s]"
          }
        },
        "72e68db52a154c12bf654b95d7bf08d7": {
          "model_module": "@jupyter-widgets/base",
          "model_name": "LayoutModel",
          "model_module_version": "1.2.0",
          "state": {
            "_model_module": "@jupyter-widgets/base",
            "_model_module_version": "1.2.0",
            "_model_name": "LayoutModel",
            "_view_count": null,
            "_view_module": "@jupyter-widgets/base",
            "_view_module_version": "1.2.0",
            "_view_name": "LayoutView",
            "align_content": null,
            "align_items": null,
            "align_self": null,
            "border": null,
            "bottom": null,
            "display": null,
            "flex": null,
            "flex_flow": null,
            "grid_area": null,
            "grid_auto_columns": null,
            "grid_auto_flow": null,
            "grid_auto_rows": null,
            "grid_column": null,
            "grid_gap": null,
            "grid_row": null,
            "grid_template_areas": null,
            "grid_template_columns": null,
            "grid_template_rows": null,
            "height": null,
            "justify_content": null,
            "justify_items": null,
            "left": null,
            "margin": null,
            "max_height": null,
            "max_width": null,
            "min_height": null,
            "min_width": null,
            "object_fit": null,
            "object_position": null,
            "order": null,
            "overflow": null,
            "overflow_x": null,
            "overflow_y": null,
            "padding": null,
            "right": null,
            "top": null,
            "visibility": null,
            "width": null
          }
        },
        "2c7457f01f284aca9413e7b219e4f1a7": {
          "model_module": "@jupyter-widgets/base",
          "model_name": "LayoutModel",
          "model_module_version": "1.2.0",
          "state": {
            "_model_module": "@jupyter-widgets/base",
            "_model_module_version": "1.2.0",
            "_model_name": "LayoutModel",
            "_view_count": null,
            "_view_module": "@jupyter-widgets/base",
            "_view_module_version": "1.2.0",
            "_view_name": "LayoutView",
            "align_content": null,
            "align_items": null,
            "align_self": null,
            "border": null,
            "bottom": null,
            "display": null,
            "flex": null,
            "flex_flow": null,
            "grid_area": null,
            "grid_auto_columns": null,
            "grid_auto_flow": null,
            "grid_auto_rows": null,
            "grid_column": null,
            "grid_gap": null,
            "grid_row": null,
            "grid_template_areas": null,
            "grid_template_columns": null,
            "grid_template_rows": null,
            "height": null,
            "justify_content": null,
            "justify_items": null,
            "left": null,
            "margin": null,
            "max_height": null,
            "max_width": null,
            "min_height": null,
            "min_width": null,
            "object_fit": null,
            "object_position": null,
            "order": null,
            "overflow": null,
            "overflow_x": null,
            "overflow_y": null,
            "padding": null,
            "right": null,
            "top": null,
            "visibility": null,
            "width": null
          }
        },
        "f0a136fb7ff14d3493e6529756f67ca4": {
          "model_module": "@jupyter-widgets/controls",
          "model_name": "DescriptionStyleModel",
          "model_module_version": "1.5.0",
          "state": {
            "_model_module": "@jupyter-widgets/controls",
            "_model_module_version": "1.5.0",
            "_model_name": "DescriptionStyleModel",
            "_view_count": null,
            "_view_module": "@jupyter-widgets/base",
            "_view_module_version": "1.2.0",
            "_view_name": "StyleView",
            "description_width": ""
          }
        },
        "57bb158c0ff1459a9f90564b62918785": {
          "model_module": "@jupyter-widgets/base",
          "model_name": "LayoutModel",
          "model_module_version": "1.2.0",
          "state": {
            "_model_module": "@jupyter-widgets/base",
            "_model_module_version": "1.2.0",
            "_model_name": "LayoutModel",
            "_view_count": null,
            "_view_module": "@jupyter-widgets/base",
            "_view_module_version": "1.2.0",
            "_view_name": "LayoutView",
            "align_content": null,
            "align_items": null,
            "align_self": null,
            "border": null,
            "bottom": null,
            "display": null,
            "flex": null,
            "flex_flow": null,
            "grid_area": null,
            "grid_auto_columns": null,
            "grid_auto_flow": null,
            "grid_auto_rows": null,
            "grid_column": null,
            "grid_gap": null,
            "grid_row": null,
            "grid_template_areas": null,
            "grid_template_columns": null,
            "grid_template_rows": null,
            "height": null,
            "justify_content": null,
            "justify_items": null,
            "left": null,
            "margin": null,
            "max_height": null,
            "max_width": null,
            "min_height": null,
            "min_width": null,
            "object_fit": null,
            "object_position": null,
            "order": null,
            "overflow": null,
            "overflow_x": null,
            "overflow_y": null,
            "padding": null,
            "right": null,
            "top": null,
            "visibility": null,
            "width": null
          }
        },
        "5c401394c4de457782a911a20918170f": {
          "model_module": "@jupyter-widgets/controls",
          "model_name": "ProgressStyleModel",
          "model_module_version": "1.5.0",
          "state": {
            "_model_module": "@jupyter-widgets/controls",
            "_model_module_version": "1.5.0",
            "_model_name": "ProgressStyleModel",
            "_view_count": null,
            "_view_module": "@jupyter-widgets/base",
            "_view_module_version": "1.2.0",
            "_view_name": "StyleView",
            "bar_color": null,
            "description_width": ""
          }
        },
        "377826b0708d414a8c0e14d5c36de4a0": {
          "model_module": "@jupyter-widgets/base",
          "model_name": "LayoutModel",
          "model_module_version": "1.2.0",
          "state": {
            "_model_module": "@jupyter-widgets/base",
            "_model_module_version": "1.2.0",
            "_model_name": "LayoutModel",
            "_view_count": null,
            "_view_module": "@jupyter-widgets/base",
            "_view_module_version": "1.2.0",
            "_view_name": "LayoutView",
            "align_content": null,
            "align_items": null,
            "align_self": null,
            "border": null,
            "bottom": null,
            "display": null,
            "flex": null,
            "flex_flow": null,
            "grid_area": null,
            "grid_auto_columns": null,
            "grid_auto_flow": null,
            "grid_auto_rows": null,
            "grid_column": null,
            "grid_gap": null,
            "grid_row": null,
            "grid_template_areas": null,
            "grid_template_columns": null,
            "grid_template_rows": null,
            "height": null,
            "justify_content": null,
            "justify_items": null,
            "left": null,
            "margin": null,
            "max_height": null,
            "max_width": null,
            "min_height": null,
            "min_width": null,
            "object_fit": null,
            "object_position": null,
            "order": null,
            "overflow": null,
            "overflow_x": null,
            "overflow_y": null,
            "padding": null,
            "right": null,
            "top": null,
            "visibility": null,
            "width": null
          }
        },
        "4bedd1f681c044da9b39997ede720200": {
          "model_module": "@jupyter-widgets/controls",
          "model_name": "DescriptionStyleModel",
          "model_module_version": "1.5.0",
          "state": {
            "_model_module": "@jupyter-widgets/controls",
            "_model_module_version": "1.5.0",
            "_model_name": "DescriptionStyleModel",
            "_view_count": null,
            "_view_module": "@jupyter-widgets/base",
            "_view_module_version": "1.2.0",
            "_view_name": "StyleView",
            "description_width": ""
          }
        }
      }
    }
  },
  "cells": [
    {
      "cell_type": "markdown",
      "source": [
        "### Importing Packages"
      ],
      "metadata": {
        "id": "jlRxaXn75kBZ"
      }
    },
    {
      "cell_type": "code",
      "execution_count": 1,
      "metadata": {
        "id": "UdlB0VQLDMec"
      },
      "outputs": [],
      "source": [
        "import torch\n",
        "import torchvision\n",
        "import torch\n",
        "import torchvision\n",
        "import torch.nn.functional as F\n",
        "import torch.nn as nn\n",
        "# import torchtoolbox.transform as transforms\n",
        "import torchvision.transforms as transforms\n",
        "from torch.utils.data import Dataset, DataLoader, Subset\n",
        "from torch.optim.lr_scheduler import ReduceLROnPlateau\n",
        "from sklearn.metrics import accuracy_score, roc_auc_score\n",
        "from sklearn.model_selection import StratifiedKFold, GroupKFold, KFold\n",
        "import pandas as pd\n",
        "import numpy as np\n",
        "import gc\n",
        "import os\n",
        "import cv2\n",
        "import time\n",
        "import datetime\n",
        "import warnings\n",
        "import random\n",
        "import matplotlib.pyplot as plt\n",
        "import seaborn as sns\n",
        "from PIL import Image\n",
        "  \n",
        "%matplotlib inline"
      ]
    },
    {
      "cell_type": "code",
      "source": [
        "from google.colab import drive\n",
        "drive.mount('/content/drive')"
      ],
      "metadata": {
        "id": "HaDHg3aJYaYm",
        "colab": {
          "base_uri": "https://localhost:8080/"
        },
        "outputId": "f3756737-8db0-43f7-898e-8b038422b3aa"
      },
      "execution_count": 2,
      "outputs": [
        {
          "output_type": "stream",
          "name": "stdout",
          "text": [
            "Drive already mounted at /content/drive; to attempt to forcibly remount, call drive.mount(\"/content/drive\", force_remount=True).\n"
          ]
        }
      ]
    },
    {
      "cell_type": "code",
      "source": [
        "!ls /content/drive/MyDrive/"
      ],
      "metadata": {
        "colab": {
          "base_uri": "https://localhost:8080/"
        },
        "id": "c2VVa0c5IAMZ",
        "outputId": "53a5afa7-9ff0-4a46-f41f-82e2eb14a69d"
      },
      "execution_count": 3,
      "outputs": [
        {
          "output_type": "stream",
          "name": "stdout",
          "text": [
            "'Colab Notebooks'   CS230-Project\n"
          ]
        }
      ]
    },
    {
      "cell_type": "code",
      "source": [
        "#!rm -rf -d /content/drive/MyDrive/*.jpg"
      ],
      "metadata": {
        "id": "mLo9frSvIYY9"
      },
      "execution_count": 4,
      "outputs": []
    },
    {
      "cell_type": "markdown",
      "source": [
        "### Data Loading"
      ],
      "metadata": {
        "id": "W76LaBVF5qwG"
      }
    },
    {
      "cell_type": "code",
      "source": [
        "# !unzip /content/drive/MyDrive/CS230-Project/ISIC-subset1.zip -d /content/drive/MyDrive/CS230-Project/Data/ISIC-subset1"
      ],
      "metadata": {
        "id": "pVUHK-L6YnmY"
      },
      "execution_count": 5,
      "outputs": []
    },
    {
      "cell_type": "code",
      "source": [
        "train_df = pd.read_csv(\"/content/drive/MyDrive/CS230-Project/Data/ISIC-subset1/train.csv\")\n",
        "print(len(train_df))"
      ],
      "metadata": {
        "id": "hlvWjP-HkUfZ",
        "colab": {
          "base_uri": "https://localhost:8080/"
        },
        "outputId": "163aa508-ce40-4237-ad24-eabf945822a7"
      },
      "execution_count": 6,
      "outputs": [
        {
          "output_type": "stream",
          "name": "stdout",
          "text": [
            "33126\n"
          ]
        }
      ]
    },
    {
      "cell_type": "code",
      "source": [
        " !ls /content/drive/MyDrive/CS230-Project/Data/ISIC-subset1/train/ | wc -l"
      ],
      "metadata": {
        "id": "ium3f6nYH1eH",
        "colab": {
          "base_uri": "https://localhost:8080/"
        },
        "outputId": "09484e99-a09d-4c6b-b545-9edeb8e2ca1d"
      },
      "execution_count": 7,
      "outputs": [
        {
          "output_type": "stream",
          "name": "stdout",
          "text": [
            "ls: cannot open directory '/content/drive/MyDrive/CS230-Project/Data/ISIC-subset1/train/': Input/output error\n",
            "0\n"
          ]
        }
      ]
    },
    {
      "cell_type": "code",
      "source": [
        "test_df = pd.read_csv(\"/content/drive/MyDrive/CS230-Project/Data/ISIC-subset1/test.csv\")\n",
        "print(len(test_df))"
      ],
      "metadata": {
        "id": "iIyHeTdgkkAO",
        "colab": {
          "base_uri": "https://localhost:8080/"
        },
        "outputId": "50dc7073-2f7f-43d7-d0da-8c81f0f01a14"
      },
      "execution_count": 8,
      "outputs": [
        {
          "output_type": "stream",
          "name": "stdout",
          "text": [
            "10982\n"
          ]
        }
      ]
    },
    {
      "cell_type": "code",
      "source": [
        " !ls /content/drive/MyDrive/CS230-Project/Data/ISIC-subset1/test/ | wc -l"
      ],
      "metadata": {
        "id": "KSaF6_zePGQ5",
        "colab": {
          "base_uri": "https://localhost:8080/"
        },
        "outputId": "89e02113-1aa9-4ea1-b53b-04dad6c96ba1"
      },
      "execution_count": 9,
      "outputs": [
        {
          "output_type": "stream",
          "name": "stdout",
          "text": [
            "10982\n"
          ]
        }
      ]
    },
    {
      "cell_type": "code",
      "source": [
        "train_df.head()"
      ],
      "metadata": {
        "id": "mKpEtgwqyWnK",
        "colab": {
          "base_uri": "https://localhost:8080/",
          "height": 206
        },
        "outputId": "5c122065-eea2-4f02-d525-4ad21970b35d"
      },
      "execution_count": 10,
      "outputs": [
        {
          "output_type": "execute_result",
          "data": {
            "text/plain": [
              "     image_name  patient_id     sex  age_approx anatom_site_general_challenge  \\\n",
              "0  ISIC_2637011  IP_7279968    male        45.0                     head/neck   \n",
              "1  ISIC_0015719  IP_3075186  female        45.0               upper extremity   \n",
              "2  ISIC_0052212  IP_2842074  female        50.0               lower extremity   \n",
              "3  ISIC_0068279  IP_6890425  female        45.0                     head/neck   \n",
              "4  ISIC_0074268  IP_8723313  female        55.0               upper extremity   \n",
              "\n",
              "  diagnosis benign_malignant  target  tfrecord  width  height  \n",
              "0   unknown           benign       0         0   6000    4000  \n",
              "1   unknown           benign       0         0   6000    4000  \n",
              "2     nevus           benign       0         6   1872    1053  \n",
              "3   unknown           benign       0         0   1872    1053  \n",
              "4   unknown           benign       0        11   6000    4000  "
            ],
            "text/html": [
              "\n",
              "  <div id=\"df-1a1af6c5-6081-4080-a05f-442a7d99dbfe\">\n",
              "    <div class=\"colab-df-container\">\n",
              "      <div>\n",
              "<style scoped>\n",
              "    .dataframe tbody tr th:only-of-type {\n",
              "        vertical-align: middle;\n",
              "    }\n",
              "\n",
              "    .dataframe tbody tr th {\n",
              "        vertical-align: top;\n",
              "    }\n",
              "\n",
              "    .dataframe thead th {\n",
              "        text-align: right;\n",
              "    }\n",
              "</style>\n",
              "<table border=\"1\" class=\"dataframe\">\n",
              "  <thead>\n",
              "    <tr style=\"text-align: right;\">\n",
              "      <th></th>\n",
              "      <th>image_name</th>\n",
              "      <th>patient_id</th>\n",
              "      <th>sex</th>\n",
              "      <th>age_approx</th>\n",
              "      <th>anatom_site_general_challenge</th>\n",
              "      <th>diagnosis</th>\n",
              "      <th>benign_malignant</th>\n",
              "      <th>target</th>\n",
              "      <th>tfrecord</th>\n",
              "      <th>width</th>\n",
              "      <th>height</th>\n",
              "    </tr>\n",
              "  </thead>\n",
              "  <tbody>\n",
              "    <tr>\n",
              "      <th>0</th>\n",
              "      <td>ISIC_2637011</td>\n",
              "      <td>IP_7279968</td>\n",
              "      <td>male</td>\n",
              "      <td>45.0</td>\n",
              "      <td>head/neck</td>\n",
              "      <td>unknown</td>\n",
              "      <td>benign</td>\n",
              "      <td>0</td>\n",
              "      <td>0</td>\n",
              "      <td>6000</td>\n",
              "      <td>4000</td>\n",
              "    </tr>\n",
              "    <tr>\n",
              "      <th>1</th>\n",
              "      <td>ISIC_0015719</td>\n",
              "      <td>IP_3075186</td>\n",
              "      <td>female</td>\n",
              "      <td>45.0</td>\n",
              "      <td>upper extremity</td>\n",
              "      <td>unknown</td>\n",
              "      <td>benign</td>\n",
              "      <td>0</td>\n",
              "      <td>0</td>\n",
              "      <td>6000</td>\n",
              "      <td>4000</td>\n",
              "    </tr>\n",
              "    <tr>\n",
              "      <th>2</th>\n",
              "      <td>ISIC_0052212</td>\n",
              "      <td>IP_2842074</td>\n",
              "      <td>female</td>\n",
              "      <td>50.0</td>\n",
              "      <td>lower extremity</td>\n",
              "      <td>nevus</td>\n",
              "      <td>benign</td>\n",
              "      <td>0</td>\n",
              "      <td>6</td>\n",
              "      <td>1872</td>\n",
              "      <td>1053</td>\n",
              "    </tr>\n",
              "    <tr>\n",
              "      <th>3</th>\n",
              "      <td>ISIC_0068279</td>\n",
              "      <td>IP_6890425</td>\n",
              "      <td>female</td>\n",
              "      <td>45.0</td>\n",
              "      <td>head/neck</td>\n",
              "      <td>unknown</td>\n",
              "      <td>benign</td>\n",
              "      <td>0</td>\n",
              "      <td>0</td>\n",
              "      <td>1872</td>\n",
              "      <td>1053</td>\n",
              "    </tr>\n",
              "    <tr>\n",
              "      <th>4</th>\n",
              "      <td>ISIC_0074268</td>\n",
              "      <td>IP_8723313</td>\n",
              "      <td>female</td>\n",
              "      <td>55.0</td>\n",
              "      <td>upper extremity</td>\n",
              "      <td>unknown</td>\n",
              "      <td>benign</td>\n",
              "      <td>0</td>\n",
              "      <td>11</td>\n",
              "      <td>6000</td>\n",
              "      <td>4000</td>\n",
              "    </tr>\n",
              "  </tbody>\n",
              "</table>\n",
              "</div>\n",
              "      <button class=\"colab-df-convert\" onclick=\"convertToInteractive('df-1a1af6c5-6081-4080-a05f-442a7d99dbfe')\"\n",
              "              title=\"Convert this dataframe to an interactive table.\"\n",
              "              style=\"display:none;\">\n",
              "        \n",
              "  <svg xmlns=\"http://www.w3.org/2000/svg\" height=\"24px\"viewBox=\"0 0 24 24\"\n",
              "       width=\"24px\">\n",
              "    <path d=\"M0 0h24v24H0V0z\" fill=\"none\"/>\n",
              "    <path d=\"M18.56 5.44l.94 2.06.94-2.06 2.06-.94-2.06-.94-.94-2.06-.94 2.06-2.06.94zm-11 1L8.5 8.5l.94-2.06 2.06-.94-2.06-.94L8.5 2.5l-.94 2.06-2.06.94zm10 10l.94 2.06.94-2.06 2.06-.94-2.06-.94-.94-2.06-.94 2.06-2.06.94z\"/><path d=\"M17.41 7.96l-1.37-1.37c-.4-.4-.92-.59-1.43-.59-.52 0-1.04.2-1.43.59L10.3 9.45l-7.72 7.72c-.78.78-.78 2.05 0 2.83L4 21.41c.39.39.9.59 1.41.59.51 0 1.02-.2 1.41-.59l7.78-7.78 2.81-2.81c.8-.78.8-2.07 0-2.86zM5.41 20L4 18.59l7.72-7.72 1.47 1.35L5.41 20z\"/>\n",
              "  </svg>\n",
              "      </button>\n",
              "      \n",
              "  <style>\n",
              "    .colab-df-container {\n",
              "      display:flex;\n",
              "      flex-wrap:wrap;\n",
              "      gap: 12px;\n",
              "    }\n",
              "\n",
              "    .colab-df-convert {\n",
              "      background-color: #E8F0FE;\n",
              "      border: none;\n",
              "      border-radius: 50%;\n",
              "      cursor: pointer;\n",
              "      display: none;\n",
              "      fill: #1967D2;\n",
              "      height: 32px;\n",
              "      padding: 0 0 0 0;\n",
              "      width: 32px;\n",
              "    }\n",
              "\n",
              "    .colab-df-convert:hover {\n",
              "      background-color: #E2EBFA;\n",
              "      box-shadow: 0px 1px 2px rgba(60, 64, 67, 0.3), 0px 1px 3px 1px rgba(60, 64, 67, 0.15);\n",
              "      fill: #174EA6;\n",
              "    }\n",
              "\n",
              "    [theme=dark] .colab-df-convert {\n",
              "      background-color: #3B4455;\n",
              "      fill: #D2E3FC;\n",
              "    }\n",
              "\n",
              "    [theme=dark] .colab-df-convert:hover {\n",
              "      background-color: #434B5C;\n",
              "      box-shadow: 0px 1px 3px 1px rgba(0, 0, 0, 0.15);\n",
              "      filter: drop-shadow(0px 1px 2px rgba(0, 0, 0, 0.3));\n",
              "      fill: #FFFFFF;\n",
              "    }\n",
              "  </style>\n",
              "\n",
              "      <script>\n",
              "        const buttonEl =\n",
              "          document.querySelector('#df-1a1af6c5-6081-4080-a05f-442a7d99dbfe button.colab-df-convert');\n",
              "        buttonEl.style.display =\n",
              "          google.colab.kernel.accessAllowed ? 'block' : 'none';\n",
              "\n",
              "        async function convertToInteractive(key) {\n",
              "          const element = document.querySelector('#df-1a1af6c5-6081-4080-a05f-442a7d99dbfe');\n",
              "          const dataTable =\n",
              "            await google.colab.kernel.invokeFunction('convertToInteractive',\n",
              "                                                     [key], {});\n",
              "          if (!dataTable) return;\n",
              "\n",
              "          const docLinkHtml = 'Like what you see? Visit the ' +\n",
              "            '<a target=\"_blank\" href=https://colab.research.google.com/notebooks/data_table.ipynb>data table notebook</a>'\n",
              "            + ' to learn more about interactive tables.';\n",
              "          element.innerHTML = '';\n",
              "          dataTable['output_type'] = 'display_data';\n",
              "          await google.colab.output.renderOutput(dataTable, element);\n",
              "          const docLink = document.createElement('div');\n",
              "          docLink.innerHTML = docLinkHtml;\n",
              "          element.appendChild(docLink);\n",
              "        }\n",
              "      </script>\n",
              "    </div>\n",
              "  </div>\n",
              "  "
            ]
          },
          "metadata": {},
          "execution_count": 10
        }
      ]
    },
    {
      "cell_type": "code",
      "source": [
        "train_df ['target'].value_counts()[0], train_df ['target'].value_counts()[1]"
      ],
      "metadata": {
        "id": "tK0ly5iR4fiK",
        "colab": {
          "base_uri": "https://localhost:8080/"
        },
        "outputId": "bc200970-53e0-4fb7-a0a4-e09f61466b0b"
      },
      "execution_count": 11,
      "outputs": [
        {
          "output_type": "execute_result",
          "data": {
            "text/plain": [
              "(32542, 584)"
            ]
          },
          "metadata": {},
          "execution_count": 11
        }
      ]
    },
    {
      "cell_type": "code",
      "source": [
        "# train_drop_indices = []\n",
        "# for index, row in train_df.iterrows():\n",
        "#     im_path = os.path.join('/content/drive/MyDrive/CS230-Project/Data/ISIC-subset1/train/', train_df.iloc[index]['image_name'] + '.jpg')\n",
        "#     if os.path.exists(im_path)== False:\n",
        "#       train_drop_indices.append(index)"
      ],
      "metadata": {
        "id": "i_bDV2cCJxHY"
      },
      "execution_count": 12,
      "outputs": []
    },
    {
      "cell_type": "code",
      "source": [
        "# train_df = train_df.drop(train_df.index[train_drop_indices])\n",
        "# print(len(train_df))"
      ],
      "metadata": {
        "id": "D6w8qZw-K_7-"
      },
      "execution_count": 13,
      "outputs": []
    },
    {
      "cell_type": "code",
      "source": [
        "# test_drop_indices = []\n",
        "# for index, row in test_df.iterrows():\n",
        "#     im_path = os.path.join('/content/drive/MyDrive/CS230-Project/Data/ISIC-subset1/test/', test_df.iloc[index]['image_name'] + '.jpg')\n",
        "#     if os.path.exists(im_path)== False:\n",
        "#       test_drop_indices.append(index)"
      ],
      "metadata": {
        "id": "_djwb248L3A5"
      },
      "execution_count": 14,
      "outputs": []
    },
    {
      "cell_type": "code",
      "source": [
        "# test_df = test_df.drop(test_df.index[test_drop_indices])\n",
        "# print(len(test_df))"
      ],
      "metadata": {
        "id": "74lWD988MDYU"
      },
      "execution_count": 15,
      "outputs": []
    },
    {
      "cell_type": "markdown",
      "source": [
        "### Setting seed values"
      ],
      "metadata": {
        "id": "4uMsnvO657aB"
      }
    },
    {
      "cell_type": "code",
      "source": [
        "warnings.simplefilter('ignore')\n",
        "def seed_everything(seed):\n",
        "    random.seed(seed)\n",
        "    os.environ['PYTHONHASHSEED'] = str(seed)\n",
        "    np.random.seed(seed)\n",
        "    torch.manual_seed(seed)\n",
        "    torch.cuda.manual_seed(seed)\n",
        "    torch.backends.cudnn.deterministic = True\n",
        "    torch.backends.cudnn.benchmark = True\n",
        "\n",
        "seed_everything(47)"
      ],
      "metadata": {
        "id": "iHMCthHMFSCv"
      },
      "execution_count": 16,
      "outputs": []
    },
    {
      "cell_type": "code",
      "source": [
        "device = torch.device(\"cuda\" if torch.cuda.is_available() else \"cpu\")"
      ],
      "metadata": {
        "id": "OcDjVzRYFnar"
      },
      "execution_count": 17,
      "outputs": []
    },
    {
      "cell_type": "code",
      "source": [
        "# GPU Specifications\n",
        "!nvidia-smi"
      ],
      "metadata": {
        "id": "Gu-s0Yeexyao",
        "colab": {
          "base_uri": "https://localhost:8080/"
        },
        "outputId": "e9ae3b4f-31b4-4792-ab6c-d4ab5041f211"
      },
      "execution_count": 18,
      "outputs": [
        {
          "output_type": "stream",
          "name": "stdout",
          "text": [
            "Wed Nov  9 15:38:20 2022       \n",
            "+-----------------------------------------------------------------------------+\n",
            "| NVIDIA-SMI 460.32.03    Driver Version: 460.32.03    CUDA Version: 11.2     |\n",
            "|-------------------------------+----------------------+----------------------+\n",
            "| GPU  Name        Persistence-M| Bus-Id        Disp.A | Volatile Uncorr. ECC |\n",
            "| Fan  Temp  Perf  Pwr:Usage/Cap|         Memory-Usage | GPU-Util  Compute M. |\n",
            "|                               |                      |               MIG M. |\n",
            "|===============================+======================+======================|\n",
            "|   0  Tesla T4            Off  | 00000000:00:04.0 Off |                    0 |\n",
            "| N/A   50C    P8    11W /  70W |      3MiB / 15109MiB |      0%      Default |\n",
            "|                               |                      |                  N/A |\n",
            "+-------------------------------+----------------------+----------------------+\n",
            "                                                                               \n",
            "+-----------------------------------------------------------------------------+\n",
            "| Processes:                                                                  |\n",
            "|  GPU   GI   CI        PID   Type   Process name                  GPU Memory |\n",
            "|        ID   ID                                                   Usage      |\n",
            "|=============================================================================|\n",
            "|  No running processes found                                                 |\n",
            "+-----------------------------------------------------------------------------+\n"
          ]
        }
      ]
    },
    {
      "cell_type": "code",
      "source": [
        "im_path = os.path.join('/content/drive/MyDrive/CS230-Project/Data/ISIC-subset1/train/', train_df.iloc[0]['image_name'] + '.jpg')\n",
        "x = cv2.imread(im_path)\n",
        "print(type(x))"
      ],
      "metadata": {
        "id": "x4CJmWZ3ED1n",
        "colab": {
          "base_uri": "https://localhost:8080/"
        },
        "outputId": "f24f9829-4109-41fd-bff3-45b7cd927977"
      },
      "execution_count": 19,
      "outputs": [
        {
          "output_type": "stream",
          "name": "stdout",
          "text": [
            "<class 'numpy.ndarray'>\n"
          ]
        }
      ]
    },
    {
      "cell_type": "code",
      "source": [
        "class MelanomaDataset(Dataset):\n",
        "    def __init__(self, df: pd.DataFrame, imfolder: str, train: bool = True, transforms = None, meta_features = None):\n",
        "        \"\"\"\n",
        "        Class initialization\n",
        "        Args:\n",
        "            df (pd.DataFrame): DataFrame with data description\n",
        "            imfolder (str): folder with images\n",
        "            train (bool): flag of whether a training dataset is being initialized or testing one\n",
        "            transforms: image transformation method to be applied\n",
        "            meta_features (list): list of features with meta information, such as sex and age\n",
        "            \n",
        "        \"\"\"\n",
        "        self.df = df\n",
        "        self.imfolder = imfolder\n",
        "        self.transforms = transforms\n",
        "        self.train = train\n",
        "        self.meta_features = meta_features\n",
        "        \n",
        "    def __getitem__(self, index):\n",
        "        im_path = os.path.join(self.imfolder, self.df.iloc[index]['image_name'] + '.jpg')\n",
        "        # x = cv2.imread(im_path)\n",
        "        # open method used to open different extension image file\n",
        "        x = Image.open(im_path)\n",
        "        meta = np.array(self.df.iloc[index][self.meta_features].values, dtype=np.float32)\n",
        "\n",
        "        if self.transforms:\n",
        "            x = self.transforms(x)\n",
        "            \n",
        "        if self.train:\n",
        "            y = self.df.iloc[index]['target']\n",
        "            return (x, meta), y\n",
        "        else:\n",
        "            return (x, meta)\n",
        "    \n",
        "    def __len__(self):\n",
        "        return len(self.df)"
      ],
      "metadata": {
        "id": "l-NfAhcUFxtD"
      },
      "execution_count": 20,
      "outputs": []
    },
    {
      "cell_type": "code",
      "source": [
        "class Net(nn.Module):\n",
        "    def __init__(self, arch, n_meta_features: int):\n",
        "        super(Net, self).__init__()\n",
        "        self.arch = arch\n",
        "        if 'ResNet' in str(arch.__class__):\n",
        "            self.arch.fc = nn.Linear(in_features=512, out_features=500, bias=True)\n",
        "        if 'EfficientNet' in str(arch.__class__):\n",
        "            self.arch._fc = nn.Linear(in_features=1280, out_features=500, bias=True)\n",
        "        self.meta = nn.Sequential(nn.Linear(n_meta_features, 500),\n",
        "                                  nn.BatchNorm1d(500),\n",
        "                                  nn.ReLU(),\n",
        "                                  nn.Dropout(p=0.2),\n",
        "                                  nn.Linear(500, 250),  # FC layer output will have 250 features\n",
        "                                  nn.BatchNorm1d(250),\n",
        "                                  nn.ReLU(),\n",
        "                                  nn.Dropout(p=0.2))\n",
        "        self.ouput = nn.Linear(500 + 250, 1)\n",
        "        \n",
        "    def forward(self, inputs):\n",
        "        \"\"\"\n",
        "        No sigmoid in forward because we are going to use BCEWithLogitsLoss\n",
        "        Which applies sigmoid for us when calculating a loss\n",
        "        \"\"\"\n",
        "        x, meta = inputs\n",
        "        cnn_features = self.arch(x)\n",
        "        meta_features = self.meta(meta)\n",
        "        features = torch.cat((cnn_features, meta_features), dim=1)\n",
        "        output = self.ouput(features)\n",
        "        return output"
      ],
      "metadata": {
        "id": "h16pqs-U31Vf"
      },
      "execution_count": 21,
      "outputs": []
    },
    {
      "cell_type": "code",
      "source": [
        "# class Microscope:\n",
        "#     \"\"\"\n",
        "#     Cutting out the edges around the center circle of the image\n",
        "#     Imitating a picture, taken through the microscope\n",
        "\n",
        "#     Args:\n",
        "#         p (float): probability of applying an augmentation\n",
        "#     \"\"\"\n",
        "\n",
        "#     def __init__(self, p: float = 0.5):\n",
        "#         self.p = p\n",
        "\n",
        "#     def __call__(self, img):\n",
        "#         \"\"\"\n",
        "#         Args:\n",
        "#             img (PIL Image): Image to apply transformation to.\n",
        "\n",
        "#         Returns:\n",
        "#             PIL Image: Image with transformation.\n",
        "#         \"\"\"\n",
        "#         if random.random() < self.p:\n",
        "#             circle = cv2.circle((np.ones(img.shape) * 255).astype(np.uint8), # image placeholder\n",
        "#                         (img.shape[0]//2, img.shape[1]//2), # center point of circle\n",
        "#                         random.randint(img.shape[0]//2 - 3, img.shape[0]//2 + 15), # radius\n",
        "#                         (0, 0, 0), # color\n",
        "#                         -1)\n",
        "\n",
        "#             mask = circle - 255\n",
        "#             img = np.multiply(img, mask)\n",
        "        \n",
        "#         return img\n",
        "\n",
        "#     def __repr__(self):\n",
        "#         return f'{self.__class__.__name__}(p={self.p})'"
      ],
      "metadata": {
        "id": "RsznwqBUFy_q"
      },
      "execution_count": 22,
      "outputs": []
    },
    {
      "cell_type": "code",
      "source": [
        "train_transform = transforms.Compose([\n",
        "    # AdvancedHairAugmentation(hairs_folder='/kaggle/input/melanoma-hairs'),\n",
        "    transforms.RandomResizedCrop(size=256, scale=(0.8, 1.0)),\n",
        "    transforms.RandomHorizontalFlip(),\n",
        "    transforms.RandomVerticalFlip(),\n",
        "    #Microscope(p=0.5),\n",
        "    transforms.ToTensor(),\n",
        "    transforms.Normalize(mean=[0.485, 0.456, 0.406],std=[0.229, 0.224, 0.225])\n",
        "])\n",
        "test_transform = transforms.Compose([\n",
        "    transforms.ToTensor(),\n",
        "    transforms.Normalize(mean=[0.485, 0.456, 0.406],std=[0.229, 0.224, 0.225])\n",
        "])"
      ],
      "metadata": {
        "id": "xKETaHqQGk77"
      },
      "execution_count": 23,
      "outputs": []
    },
    {
      "cell_type": "code",
      "source": [
        "train_df"
      ],
      "metadata": {
        "id": "X2z8_oUy_loe",
        "colab": {
          "base_uri": "https://localhost:8080/",
          "height": 424
        },
        "outputId": "67b51ff5-e17f-4e20-96e4-29cdba945e07"
      },
      "execution_count": 24,
      "outputs": [
        {
          "output_type": "execute_result",
          "data": {
            "text/plain": [
              "         image_name  patient_id     sex  age_approx  \\\n",
              "0      ISIC_2637011  IP_7279968    male        45.0   \n",
              "1      ISIC_0015719  IP_3075186  female        45.0   \n",
              "2      ISIC_0052212  IP_2842074  female        50.0   \n",
              "3      ISIC_0068279  IP_6890425  female        45.0   \n",
              "4      ISIC_0074268  IP_8723313  female        55.0   \n",
              "...             ...         ...     ...         ...   \n",
              "33121  ISIC_9999134  IP_6526534    male        50.0   \n",
              "33122  ISIC_9999320  IP_3650745    male        65.0   \n",
              "33123  ISIC_9999515  IP_2026598    male        20.0   \n",
              "33124  ISIC_9999666  IP_7702038    male        50.0   \n",
              "33125  ISIC_9999806  IP_0046310    male        45.0   \n",
              "\n",
              "      anatom_site_general_challenge diagnosis benign_malignant  target  \\\n",
              "0                         head/neck   unknown           benign       0   \n",
              "1                   upper extremity   unknown           benign       0   \n",
              "2                   lower extremity     nevus           benign       0   \n",
              "3                         head/neck   unknown           benign       0   \n",
              "4                   upper extremity   unknown           benign       0   \n",
              "...                             ...       ...              ...     ...   \n",
              "33121                         torso   unknown           benign       0   \n",
              "33122                         torso   unknown           benign       0   \n",
              "33123               lower extremity   unknown           benign       0   \n",
              "33124               lower extremity   unknown           benign       0   \n",
              "33125                         torso     nevus           benign       0   \n",
              "\n",
              "       tfrecord  width  height  \n",
              "0             0   6000    4000  \n",
              "1             0   6000    4000  \n",
              "2             6   1872    1053  \n",
              "3             0   1872    1053  \n",
              "4            11   6000    4000  \n",
              "...         ...    ...     ...  \n",
              "33121         2   2592    1936  \n",
              "33122        11   6000    4000  \n",
              "33123         3   1872    1053  \n",
              "33124        11   1872    1053  \n",
              "33125         4   1872    1053  \n",
              "\n",
              "[33126 rows x 11 columns]"
            ],
            "text/html": [
              "\n",
              "  <div id=\"df-7e23d4f3-2316-4a3c-9d42-40e7d1846e11\">\n",
              "    <div class=\"colab-df-container\">\n",
              "      <div>\n",
              "<style scoped>\n",
              "    .dataframe tbody tr th:only-of-type {\n",
              "        vertical-align: middle;\n",
              "    }\n",
              "\n",
              "    .dataframe tbody tr th {\n",
              "        vertical-align: top;\n",
              "    }\n",
              "\n",
              "    .dataframe thead th {\n",
              "        text-align: right;\n",
              "    }\n",
              "</style>\n",
              "<table border=\"1\" class=\"dataframe\">\n",
              "  <thead>\n",
              "    <tr style=\"text-align: right;\">\n",
              "      <th></th>\n",
              "      <th>image_name</th>\n",
              "      <th>patient_id</th>\n",
              "      <th>sex</th>\n",
              "      <th>age_approx</th>\n",
              "      <th>anatom_site_general_challenge</th>\n",
              "      <th>diagnosis</th>\n",
              "      <th>benign_malignant</th>\n",
              "      <th>target</th>\n",
              "      <th>tfrecord</th>\n",
              "      <th>width</th>\n",
              "      <th>height</th>\n",
              "    </tr>\n",
              "  </thead>\n",
              "  <tbody>\n",
              "    <tr>\n",
              "      <th>0</th>\n",
              "      <td>ISIC_2637011</td>\n",
              "      <td>IP_7279968</td>\n",
              "      <td>male</td>\n",
              "      <td>45.0</td>\n",
              "      <td>head/neck</td>\n",
              "      <td>unknown</td>\n",
              "      <td>benign</td>\n",
              "      <td>0</td>\n",
              "      <td>0</td>\n",
              "      <td>6000</td>\n",
              "      <td>4000</td>\n",
              "    </tr>\n",
              "    <tr>\n",
              "      <th>1</th>\n",
              "      <td>ISIC_0015719</td>\n",
              "      <td>IP_3075186</td>\n",
              "      <td>female</td>\n",
              "      <td>45.0</td>\n",
              "      <td>upper extremity</td>\n",
              "      <td>unknown</td>\n",
              "      <td>benign</td>\n",
              "      <td>0</td>\n",
              "      <td>0</td>\n",
              "      <td>6000</td>\n",
              "      <td>4000</td>\n",
              "    </tr>\n",
              "    <tr>\n",
              "      <th>2</th>\n",
              "      <td>ISIC_0052212</td>\n",
              "      <td>IP_2842074</td>\n",
              "      <td>female</td>\n",
              "      <td>50.0</td>\n",
              "      <td>lower extremity</td>\n",
              "      <td>nevus</td>\n",
              "      <td>benign</td>\n",
              "      <td>0</td>\n",
              "      <td>6</td>\n",
              "      <td>1872</td>\n",
              "      <td>1053</td>\n",
              "    </tr>\n",
              "    <tr>\n",
              "      <th>3</th>\n",
              "      <td>ISIC_0068279</td>\n",
              "      <td>IP_6890425</td>\n",
              "      <td>female</td>\n",
              "      <td>45.0</td>\n",
              "      <td>head/neck</td>\n",
              "      <td>unknown</td>\n",
              "      <td>benign</td>\n",
              "      <td>0</td>\n",
              "      <td>0</td>\n",
              "      <td>1872</td>\n",
              "      <td>1053</td>\n",
              "    </tr>\n",
              "    <tr>\n",
              "      <th>4</th>\n",
              "      <td>ISIC_0074268</td>\n",
              "      <td>IP_8723313</td>\n",
              "      <td>female</td>\n",
              "      <td>55.0</td>\n",
              "      <td>upper extremity</td>\n",
              "      <td>unknown</td>\n",
              "      <td>benign</td>\n",
              "      <td>0</td>\n",
              "      <td>11</td>\n",
              "      <td>6000</td>\n",
              "      <td>4000</td>\n",
              "    </tr>\n",
              "    <tr>\n",
              "      <th>...</th>\n",
              "      <td>...</td>\n",
              "      <td>...</td>\n",
              "      <td>...</td>\n",
              "      <td>...</td>\n",
              "      <td>...</td>\n",
              "      <td>...</td>\n",
              "      <td>...</td>\n",
              "      <td>...</td>\n",
              "      <td>...</td>\n",
              "      <td>...</td>\n",
              "      <td>...</td>\n",
              "    </tr>\n",
              "    <tr>\n",
              "      <th>33121</th>\n",
              "      <td>ISIC_9999134</td>\n",
              "      <td>IP_6526534</td>\n",
              "      <td>male</td>\n",
              "      <td>50.0</td>\n",
              "      <td>torso</td>\n",
              "      <td>unknown</td>\n",
              "      <td>benign</td>\n",
              "      <td>0</td>\n",
              "      <td>2</td>\n",
              "      <td>2592</td>\n",
              "      <td>1936</td>\n",
              "    </tr>\n",
              "    <tr>\n",
              "      <th>33122</th>\n",
              "      <td>ISIC_9999320</td>\n",
              "      <td>IP_3650745</td>\n",
              "      <td>male</td>\n",
              "      <td>65.0</td>\n",
              "      <td>torso</td>\n",
              "      <td>unknown</td>\n",
              "      <td>benign</td>\n",
              "      <td>0</td>\n",
              "      <td>11</td>\n",
              "      <td>6000</td>\n",
              "      <td>4000</td>\n",
              "    </tr>\n",
              "    <tr>\n",
              "      <th>33123</th>\n",
              "      <td>ISIC_9999515</td>\n",
              "      <td>IP_2026598</td>\n",
              "      <td>male</td>\n",
              "      <td>20.0</td>\n",
              "      <td>lower extremity</td>\n",
              "      <td>unknown</td>\n",
              "      <td>benign</td>\n",
              "      <td>0</td>\n",
              "      <td>3</td>\n",
              "      <td>1872</td>\n",
              "      <td>1053</td>\n",
              "    </tr>\n",
              "    <tr>\n",
              "      <th>33124</th>\n",
              "      <td>ISIC_9999666</td>\n",
              "      <td>IP_7702038</td>\n",
              "      <td>male</td>\n",
              "      <td>50.0</td>\n",
              "      <td>lower extremity</td>\n",
              "      <td>unknown</td>\n",
              "      <td>benign</td>\n",
              "      <td>0</td>\n",
              "      <td>11</td>\n",
              "      <td>1872</td>\n",
              "      <td>1053</td>\n",
              "    </tr>\n",
              "    <tr>\n",
              "      <th>33125</th>\n",
              "      <td>ISIC_9999806</td>\n",
              "      <td>IP_0046310</td>\n",
              "      <td>male</td>\n",
              "      <td>45.0</td>\n",
              "      <td>torso</td>\n",
              "      <td>nevus</td>\n",
              "      <td>benign</td>\n",
              "      <td>0</td>\n",
              "      <td>4</td>\n",
              "      <td>1872</td>\n",
              "      <td>1053</td>\n",
              "    </tr>\n",
              "  </tbody>\n",
              "</table>\n",
              "<p>33126 rows × 11 columns</p>\n",
              "</div>\n",
              "      <button class=\"colab-df-convert\" onclick=\"convertToInteractive('df-7e23d4f3-2316-4a3c-9d42-40e7d1846e11')\"\n",
              "              title=\"Convert this dataframe to an interactive table.\"\n",
              "              style=\"display:none;\">\n",
              "        \n",
              "  <svg xmlns=\"http://www.w3.org/2000/svg\" height=\"24px\"viewBox=\"0 0 24 24\"\n",
              "       width=\"24px\">\n",
              "    <path d=\"M0 0h24v24H0V0z\" fill=\"none\"/>\n",
              "    <path d=\"M18.56 5.44l.94 2.06.94-2.06 2.06-.94-2.06-.94-.94-2.06-.94 2.06-2.06.94zm-11 1L8.5 8.5l.94-2.06 2.06-.94-2.06-.94L8.5 2.5l-.94 2.06-2.06.94zm10 10l.94 2.06.94-2.06 2.06-.94-2.06-.94-.94-2.06-.94 2.06-2.06.94z\"/><path d=\"M17.41 7.96l-1.37-1.37c-.4-.4-.92-.59-1.43-.59-.52 0-1.04.2-1.43.59L10.3 9.45l-7.72 7.72c-.78.78-.78 2.05 0 2.83L4 21.41c.39.39.9.59 1.41.59.51 0 1.02-.2 1.41-.59l7.78-7.78 2.81-2.81c.8-.78.8-2.07 0-2.86zM5.41 20L4 18.59l7.72-7.72 1.47 1.35L5.41 20z\"/>\n",
              "  </svg>\n",
              "      </button>\n",
              "      \n",
              "  <style>\n",
              "    .colab-df-container {\n",
              "      display:flex;\n",
              "      flex-wrap:wrap;\n",
              "      gap: 12px;\n",
              "    }\n",
              "\n",
              "    .colab-df-convert {\n",
              "      background-color: #E8F0FE;\n",
              "      border: none;\n",
              "      border-radius: 50%;\n",
              "      cursor: pointer;\n",
              "      display: none;\n",
              "      fill: #1967D2;\n",
              "      height: 32px;\n",
              "      padding: 0 0 0 0;\n",
              "      width: 32px;\n",
              "    }\n",
              "\n",
              "    .colab-df-convert:hover {\n",
              "      background-color: #E2EBFA;\n",
              "      box-shadow: 0px 1px 2px rgba(60, 64, 67, 0.3), 0px 1px 3px 1px rgba(60, 64, 67, 0.15);\n",
              "      fill: #174EA6;\n",
              "    }\n",
              "\n",
              "    [theme=dark] .colab-df-convert {\n",
              "      background-color: #3B4455;\n",
              "      fill: #D2E3FC;\n",
              "    }\n",
              "\n",
              "    [theme=dark] .colab-df-convert:hover {\n",
              "      background-color: #434B5C;\n",
              "      box-shadow: 0px 1px 3px 1px rgba(0, 0, 0, 0.15);\n",
              "      filter: drop-shadow(0px 1px 2px rgba(0, 0, 0, 0.3));\n",
              "      fill: #FFFFFF;\n",
              "    }\n",
              "  </style>\n",
              "\n",
              "      <script>\n",
              "        const buttonEl =\n",
              "          document.querySelector('#df-7e23d4f3-2316-4a3c-9d42-40e7d1846e11 button.colab-df-convert');\n",
              "        buttonEl.style.display =\n",
              "          google.colab.kernel.accessAllowed ? 'block' : 'none';\n",
              "\n",
              "        async function convertToInteractive(key) {\n",
              "          const element = document.querySelector('#df-7e23d4f3-2316-4a3c-9d42-40e7d1846e11');\n",
              "          const dataTable =\n",
              "            await google.colab.kernel.invokeFunction('convertToInteractive',\n",
              "                                                     [key], {});\n",
              "          if (!dataTable) return;\n",
              "\n",
              "          const docLinkHtml = 'Like what you see? Visit the ' +\n",
              "            '<a target=\"_blank\" href=https://colab.research.google.com/notebooks/data_table.ipynb>data table notebook</a>'\n",
              "            + ' to learn more about interactive tables.';\n",
              "          element.innerHTML = '';\n",
              "          dataTable['output_type'] = 'display_data';\n",
              "          await google.colab.output.renderOutput(dataTable, element);\n",
              "          const docLink = document.createElement('div');\n",
              "          docLink.innerHTML = docLinkHtml;\n",
              "          element.appendChild(docLink);\n",
              "        }\n",
              "      </script>\n",
              "    </div>\n",
              "  </div>\n",
              "  "
            ]
          },
          "metadata": {},
          "execution_count": 24
        }
      ]
    },
    {
      "cell_type": "code",
      "source": [
        "# train_df = pd.read_csv('/kaggle/input/jpeg-melanoma-256x256/train.csv')\n",
        "# test_df = pd.read_csv('/kaggle/input/jpeg-melanoma-256x256/test.csv')"
      ],
      "metadata": {
        "id": "wrzR1aAmHB_I"
      },
      "execution_count": 25,
      "outputs": []
    },
    {
      "cell_type": "code",
      "source": [
        "# # One-hot encoding of anatom_site_general_challenge feature\n",
        "# concat = pd.concat([train_df['anatom_site_general_challenge'], test_df['anatom_site_general_challenge']], ignore_index=True)\n",
        "# dummies = pd.get_dummies(concat, dummy_na=True, dtype=np.uint8, prefix='site')\n",
        "# train_df = pd.concat([train_df, dummies.iloc[:train_df.shape[0]]], axis=1)\n",
        "# test_df = pd.concat([test_df, dummies.iloc[train_df.shape[0]:].reset_index(drop=True)], axis=1)\n",
        "\n",
        "# # Sex features\n",
        "train_df['sex'] = train_df['sex'].map({'male': 1, 'female': 0})\n",
        "test_df['sex'] = test_df['sex'].map({'male': 1, 'female': 0})\n",
        "train_df['sex'] = train_df['sex'].fillna(-1)\n",
        "test_df['sex'] = test_df['sex'].fillna(-1)\n",
        "\n",
        "# # Age features\n",
        "# train_df['age_approx'] /= train_df['age_approx'].max()\n",
        "# test_df['age_approx'] /= test_df['age_approx'].max()\n",
        "# train_df['age_approx'] = train_df['age_approx'].fillna(0)\n",
        "# test_df['age_approx'] = test_df['age_approx'].fillna(0)\n",
        "\n",
        "# train_df['patient_id'] = train_df['patient_id'].fillna(0)"
      ],
      "metadata": {
        "id": "mvy_BdTFG5Ro"
      },
      "execution_count": 26,
      "outputs": []
    },
    {
      "cell_type": "code",
      "source": [
        "train_df.head()"
      ],
      "metadata": {
        "id": "0uC7DuoPyNCI",
        "colab": {
          "base_uri": "https://localhost:8080/",
          "height": 206
        },
        "outputId": "a1206f07-b784-453c-9ff8-3f38ac592db7"
      },
      "execution_count": 27,
      "outputs": [
        {
          "output_type": "execute_result",
          "data": {
            "text/plain": [
              "     image_name  patient_id  sex  age_approx anatom_site_general_challenge  \\\n",
              "0  ISIC_2637011  IP_7279968  1.0        45.0                     head/neck   \n",
              "1  ISIC_0015719  IP_3075186  0.0        45.0               upper extremity   \n",
              "2  ISIC_0052212  IP_2842074  0.0        50.0               lower extremity   \n",
              "3  ISIC_0068279  IP_6890425  0.0        45.0                     head/neck   \n",
              "4  ISIC_0074268  IP_8723313  0.0        55.0               upper extremity   \n",
              "\n",
              "  diagnosis benign_malignant  target  tfrecord  width  height  \n",
              "0   unknown           benign       0         0   6000    4000  \n",
              "1   unknown           benign       0         0   6000    4000  \n",
              "2     nevus           benign       0         6   1872    1053  \n",
              "3   unknown           benign       0         0   1872    1053  \n",
              "4   unknown           benign       0        11   6000    4000  "
            ],
            "text/html": [
              "\n",
              "  <div id=\"df-4b7295ef-2b03-497a-9024-c3840c2abfa8\">\n",
              "    <div class=\"colab-df-container\">\n",
              "      <div>\n",
              "<style scoped>\n",
              "    .dataframe tbody tr th:only-of-type {\n",
              "        vertical-align: middle;\n",
              "    }\n",
              "\n",
              "    .dataframe tbody tr th {\n",
              "        vertical-align: top;\n",
              "    }\n",
              "\n",
              "    .dataframe thead th {\n",
              "        text-align: right;\n",
              "    }\n",
              "</style>\n",
              "<table border=\"1\" class=\"dataframe\">\n",
              "  <thead>\n",
              "    <tr style=\"text-align: right;\">\n",
              "      <th></th>\n",
              "      <th>image_name</th>\n",
              "      <th>patient_id</th>\n",
              "      <th>sex</th>\n",
              "      <th>age_approx</th>\n",
              "      <th>anatom_site_general_challenge</th>\n",
              "      <th>diagnosis</th>\n",
              "      <th>benign_malignant</th>\n",
              "      <th>target</th>\n",
              "      <th>tfrecord</th>\n",
              "      <th>width</th>\n",
              "      <th>height</th>\n",
              "    </tr>\n",
              "  </thead>\n",
              "  <tbody>\n",
              "    <tr>\n",
              "      <th>0</th>\n",
              "      <td>ISIC_2637011</td>\n",
              "      <td>IP_7279968</td>\n",
              "      <td>1.0</td>\n",
              "      <td>45.0</td>\n",
              "      <td>head/neck</td>\n",
              "      <td>unknown</td>\n",
              "      <td>benign</td>\n",
              "      <td>0</td>\n",
              "      <td>0</td>\n",
              "      <td>6000</td>\n",
              "      <td>4000</td>\n",
              "    </tr>\n",
              "    <tr>\n",
              "      <th>1</th>\n",
              "      <td>ISIC_0015719</td>\n",
              "      <td>IP_3075186</td>\n",
              "      <td>0.0</td>\n",
              "      <td>45.0</td>\n",
              "      <td>upper extremity</td>\n",
              "      <td>unknown</td>\n",
              "      <td>benign</td>\n",
              "      <td>0</td>\n",
              "      <td>0</td>\n",
              "      <td>6000</td>\n",
              "      <td>4000</td>\n",
              "    </tr>\n",
              "    <tr>\n",
              "      <th>2</th>\n",
              "      <td>ISIC_0052212</td>\n",
              "      <td>IP_2842074</td>\n",
              "      <td>0.0</td>\n",
              "      <td>50.0</td>\n",
              "      <td>lower extremity</td>\n",
              "      <td>nevus</td>\n",
              "      <td>benign</td>\n",
              "      <td>0</td>\n",
              "      <td>6</td>\n",
              "      <td>1872</td>\n",
              "      <td>1053</td>\n",
              "    </tr>\n",
              "    <tr>\n",
              "      <th>3</th>\n",
              "      <td>ISIC_0068279</td>\n",
              "      <td>IP_6890425</td>\n",
              "      <td>0.0</td>\n",
              "      <td>45.0</td>\n",
              "      <td>head/neck</td>\n",
              "      <td>unknown</td>\n",
              "      <td>benign</td>\n",
              "      <td>0</td>\n",
              "      <td>0</td>\n",
              "      <td>1872</td>\n",
              "      <td>1053</td>\n",
              "    </tr>\n",
              "    <tr>\n",
              "      <th>4</th>\n",
              "      <td>ISIC_0074268</td>\n",
              "      <td>IP_8723313</td>\n",
              "      <td>0.0</td>\n",
              "      <td>55.0</td>\n",
              "      <td>upper extremity</td>\n",
              "      <td>unknown</td>\n",
              "      <td>benign</td>\n",
              "      <td>0</td>\n",
              "      <td>11</td>\n",
              "      <td>6000</td>\n",
              "      <td>4000</td>\n",
              "    </tr>\n",
              "  </tbody>\n",
              "</table>\n",
              "</div>\n",
              "      <button class=\"colab-df-convert\" onclick=\"convertToInteractive('df-4b7295ef-2b03-497a-9024-c3840c2abfa8')\"\n",
              "              title=\"Convert this dataframe to an interactive table.\"\n",
              "              style=\"display:none;\">\n",
              "        \n",
              "  <svg xmlns=\"http://www.w3.org/2000/svg\" height=\"24px\"viewBox=\"0 0 24 24\"\n",
              "       width=\"24px\">\n",
              "    <path d=\"M0 0h24v24H0V0z\" fill=\"none\"/>\n",
              "    <path d=\"M18.56 5.44l.94 2.06.94-2.06 2.06-.94-2.06-.94-.94-2.06-.94 2.06-2.06.94zm-11 1L8.5 8.5l.94-2.06 2.06-.94-2.06-.94L8.5 2.5l-.94 2.06-2.06.94zm10 10l.94 2.06.94-2.06 2.06-.94-2.06-.94-.94-2.06-.94 2.06-2.06.94z\"/><path d=\"M17.41 7.96l-1.37-1.37c-.4-.4-.92-.59-1.43-.59-.52 0-1.04.2-1.43.59L10.3 9.45l-7.72 7.72c-.78.78-.78 2.05 0 2.83L4 21.41c.39.39.9.59 1.41.59.51 0 1.02-.2 1.41-.59l7.78-7.78 2.81-2.81c.8-.78.8-2.07 0-2.86zM5.41 20L4 18.59l7.72-7.72 1.47 1.35L5.41 20z\"/>\n",
              "  </svg>\n",
              "      </button>\n",
              "      \n",
              "  <style>\n",
              "    .colab-df-container {\n",
              "      display:flex;\n",
              "      flex-wrap:wrap;\n",
              "      gap: 12px;\n",
              "    }\n",
              "\n",
              "    .colab-df-convert {\n",
              "      background-color: #E8F0FE;\n",
              "      border: none;\n",
              "      border-radius: 50%;\n",
              "      cursor: pointer;\n",
              "      display: none;\n",
              "      fill: #1967D2;\n",
              "      height: 32px;\n",
              "      padding: 0 0 0 0;\n",
              "      width: 32px;\n",
              "    }\n",
              "\n",
              "    .colab-df-convert:hover {\n",
              "      background-color: #E2EBFA;\n",
              "      box-shadow: 0px 1px 2px rgba(60, 64, 67, 0.3), 0px 1px 3px 1px rgba(60, 64, 67, 0.15);\n",
              "      fill: #174EA6;\n",
              "    }\n",
              "\n",
              "    [theme=dark] .colab-df-convert {\n",
              "      background-color: #3B4455;\n",
              "      fill: #D2E3FC;\n",
              "    }\n",
              "\n",
              "    [theme=dark] .colab-df-convert:hover {\n",
              "      background-color: #434B5C;\n",
              "      box-shadow: 0px 1px 3px 1px rgba(0, 0, 0, 0.15);\n",
              "      filter: drop-shadow(0px 1px 2px rgba(0, 0, 0, 0.3));\n",
              "      fill: #FFFFFF;\n",
              "    }\n",
              "  </style>\n",
              "\n",
              "      <script>\n",
              "        const buttonEl =\n",
              "          document.querySelector('#df-4b7295ef-2b03-497a-9024-c3840c2abfa8 button.colab-df-convert');\n",
              "        buttonEl.style.display =\n",
              "          google.colab.kernel.accessAllowed ? 'block' : 'none';\n",
              "\n",
              "        async function convertToInteractive(key) {\n",
              "          const element = document.querySelector('#df-4b7295ef-2b03-497a-9024-c3840c2abfa8');\n",
              "          const dataTable =\n",
              "            await google.colab.kernel.invokeFunction('convertToInteractive',\n",
              "                                                     [key], {});\n",
              "          if (!dataTable) return;\n",
              "\n",
              "          const docLinkHtml = 'Like what you see? Visit the ' +\n",
              "            '<a target=\"_blank\" href=https://colab.research.google.com/notebooks/data_table.ipynb>data table notebook</a>'\n",
              "            + ' to learn more about interactive tables.';\n",
              "          element.innerHTML = '';\n",
              "          dataTable['output_type'] = 'display_data';\n",
              "          await google.colab.output.renderOutput(dataTable, element);\n",
              "          const docLink = document.createElement('div');\n",
              "          docLink.innerHTML = docLinkHtml;\n",
              "          element.appendChild(docLink);\n",
              "        }\n",
              "      </script>\n",
              "    </div>\n",
              "  </div>\n",
              "  "
            ]
          },
          "metadata": {},
          "execution_count": 27
        }
      ]
    },
    {
      "cell_type": "code",
      "source": [
        "meta_features = ['sex', 'age_approx'] + [col for col in train_df.columns if 'site_' in col]\n",
        "meta_features.remove('anatom_site_general_challenge')"
      ],
      "metadata": {
        "id": "oTjfrUS4G81p"
      },
      "execution_count": 28,
      "outputs": []
    },
    {
      "cell_type": "code",
      "source": [
        "meta_features"
      ],
      "metadata": {
        "id": "AwZYNJ9kAHAv",
        "colab": {
          "base_uri": "https://localhost:8080/"
        },
        "outputId": "9a95d7fc-c07f-45f8-f9b2-9cd1378014c3"
      },
      "execution_count": 29,
      "outputs": [
        {
          "output_type": "execute_result",
          "data": {
            "text/plain": [
              "['sex', 'age_approx']"
            ]
          },
          "metadata": {},
          "execution_count": 29
        }
      ]
    },
    {
      "cell_type": "code",
      "source": [
        "test = MelanomaDataset(df=test_df,\n",
        "                       imfolder='/content/drive/MyDrive/CS230-Project/Data/ISIC-subset1/test/', \n",
        "                       train=False,\n",
        "                       transforms=train_transform,  # For TTA\n",
        "                       meta_features=meta_features)"
      ],
      "metadata": {
        "id": "ML3cgG5IHGuf"
      },
      "execution_count": 30,
      "outputs": []
    },
    {
      "cell_type": "code",
      "source": [
        "skf = GroupKFold(n_splits=5)"
      ],
      "metadata": {
        "id": "RggQkJiTHPDR"
      },
      "execution_count": 31,
      "outputs": []
    },
    {
      "cell_type": "code",
      "source": [
        "from torchvision.models import resnet50, ResNet50_Weights\n",
        "model = resnet50(weights=ResNet50_Weights.DEFAULT)"
      ],
      "metadata": {
        "id": "H0Av2tGgT1EM",
        "colab": {
          "base_uri": "https://localhost:8080/",
          "height": 66,
          "referenced_widgets": [
            "16fcdbcd2a714363a48373ba1450ac0f",
            "c42a3aa34235497c92765e8dd33f8ef7",
            "d7e96330f78541f98fef0a0e3e712ccf",
            "8c98d698efba40dca2080ccfb0e00d45",
            "72e68db52a154c12bf654b95d7bf08d7",
            "2c7457f01f284aca9413e7b219e4f1a7",
            "f0a136fb7ff14d3493e6529756f67ca4",
            "57bb158c0ff1459a9f90564b62918785",
            "5c401394c4de457782a911a20918170f",
            "377826b0708d414a8c0e14d5c36de4a0",
            "4bedd1f681c044da9b39997ede720200"
          ]
        },
        "outputId": "3175e5f3-c5ca-4db9-ed79-d511c79e27d5"
      },
      "execution_count": 32,
      "outputs": [
        {
          "output_type": "stream",
          "name": "stderr",
          "text": [
            "Downloading: \"https://download.pytorch.org/models/resnet50-11ad3fa6.pth\" to /root/.cache/torch/hub/checkpoints/resnet50-11ad3fa6.pth\n"
          ]
        },
        {
          "output_type": "display_data",
          "data": {
            "text/plain": [
              "  0%|          | 0.00/97.8M [00:00<?, ?B/s]"
            ],
            "application/vnd.jupyter.widget-view+json": {
              "version_major": 2,
              "version_minor": 0,
              "model_id": "16fcdbcd2a714363a48373ba1450ac0f"
            }
          },
          "metadata": {}
        }
      ]
    },
    {
      "cell_type": "code",
      "source": [
        "epochs = 2  # Number of epochs to run\n",
        "es_patience = 3  # Early Stopping patience - for how many epochs with no improvements to wait\n",
        "TTA = 3 # Test Time Augmentation rounds\n",
        "\n",
        "oof = np.zeros((len(train_df), 1))  # Out Of Fold predictions\n",
        "preds = torch.zeros((len(test), 1), dtype=torch.float32, device=device)  # Predictions for test test\n",
        "\n",
        "skf = KFold(n_splits=5, shuffle=True, random_state=47)\n",
        "for fold, (train_idx, val_idx) in enumerate(skf.split(X=np.zeros(len(train_df)), y=train_df['target'], groups=train_df['patient_id'].tolist()), 1):\n",
        "    print('=' * 20, 'Fold', fold, '=' * 20)  \n",
        "    \n",
        "    model_path = f'model_{fold}.pth'  # Path and filename to save model to\n",
        "    best_val = 0  # Best validation score within this fold\n",
        "    patience = es_patience  # Current patience counter\n",
        "    arch = model = resnet50(weights=ResNet50_Weights.DEFAULT)\n",
        "    # model = Net(arch=arch, n_meta_features=len(meta_features))  # New model for each fold\n",
        "    model = model.to(device)\n",
        "\n",
        "    num_ftrs = model.fc.in_features\n",
        "    # Here the size of each output sample is set to 2.\n",
        "    # Alternatively, it can be generalized to nn.Linear(num_ftrs, len(class_names)).\n",
        "    model.fc = nn.Linear(num_ftrs, 1)\n",
        "    model = model.to(device)\n",
        "    \n",
        "    optim = torch.optim.Adam(model.parameters(), lr=0.001)\n",
        "    scheduler = ReduceLROnPlateau(optimizer=optim, mode='max', patience=1, verbose=True, factor=0.2)\n",
        "    criterion = nn.BCEWithLogitsLoss()\n",
        "    \n",
        "    train = MelanomaDataset(df=train_df.iloc[train_idx].reset_index(drop=True), \n",
        "                            imfolder='/content/drive/MyDrive/CS230-Project/Data/ISIC-subset1/train/', \n",
        "                            train=True, \n",
        "                            transforms=train_transform,\n",
        "                            meta_features=meta_features)\n",
        "    val = MelanomaDataset(df=train_df.iloc[val_idx].reset_index(drop=True), \n",
        "                            imfolder='/content/drive/MyDrive/CS230-Project/Data/ISIC-subset1/train/', \n",
        "                            train=True, \n",
        "                            transforms=test_transform,\n",
        "                            meta_features=meta_features)\n",
        "    \n",
        "    train_loader = DataLoader(dataset=train, batch_size=64, shuffle=True, num_workers=2)\n",
        "    val_loader = DataLoader(dataset=val, batch_size=16, shuffle=False, num_workers=2)\n",
        "    test_loader = DataLoader(dataset=test, batch_size=16, shuffle=False, num_workers=2)\n",
        "    \n",
        "    for epoch in range(epochs):\n",
        "        start_time = time.time()\n",
        "        correct = 0\n",
        "        epoch_loss = 0\n",
        "        model.train()\n",
        "\n",
        "        for x, y in train_loader:\n",
        "            x[0] = torch.tensor(x[0], device=device, dtype=torch.float32)\n",
        "            x[1] = torch.tensor(x[1], device=device, dtype=torch.float32)\n",
        "            y = torch.tensor(y, device=device, dtype=torch.float32)\n",
        "            optim.zero_grad()\n",
        "            z = model(x[0])\n",
        "            loss = criterion(z, y.unsqueeze(1))\n",
        "            loss.backward()\n",
        "            optim.step()\n",
        "            pred = torch.round(torch.sigmoid(z))  # round off sigmoid to obtain predictions\n",
        "            correct += (pred.cpu() == y.cpu().unsqueeze(1)).sum().item()  # tracking number of correctly predicted samples\n",
        "            epoch_loss += loss.item()\n",
        "        train_acc = correct / len(train_idx)\n",
        "        \n",
        "        model.eval()  # switch model to the evaluation mode\n",
        "        val_preds = torch.zeros((len(val_idx), 1), dtype=torch.float32, device=device)\n",
        "        with torch.no_grad():  # Do not calculate gradient since we are only predicting\n",
        "            # Predicting on validation set\n",
        "            for j, (x_val, y_val) in enumerate(val_loader):\n",
        "                x_val[0] = torch.tensor(x_val[0], device=device, dtype=torch.float32)\n",
        "                x_val[1] = torch.tensor(x_val[1], device=device, dtype=torch.float32)\n",
        "                y_val = torch.tensor(y_val, device=device, dtype=torch.float32)\n",
        "                z_val = model(x_val[0])\n",
        "                val_pred = torch.sigmoid(z_val)\n",
        "                val_preds[j*val_loader.batch_size:j*val_loader.batch_size + x_val[0].shape[0]] = val_pred\n",
        "            val_acc = accuracy_score(train_df.iloc[val_idx]['target'].values, torch.round(val_preds.cpu()))\n",
        "            val_roc = roc_auc_score(train_df.iloc[val_idx]['target'].values, val_preds.cpu())\n",
        "            \n",
        "            print('Epoch {:03}: | Loss: {:.3f} | Train acc: {:.3f} | Val acc: {:.3f} | Val roc_auc: {:.3f} | Training time: {}'.format(\n",
        "            epoch + 1, \n",
        "            epoch_loss, \n",
        "            train_acc, \n",
        "            val_acc, \n",
        "            val_roc, \n",
        "            str(datetime.timedelta(seconds=time.time() - start_time))[:7]))\n",
        "            \n",
        "            scheduler.step(val_roc)\n",
        "                \n",
        "            if val_roc >= best_val:\n",
        "                best_val = val_roc\n",
        "                patience = es_patience  # Resetting patience since we have new best validation accuracy\n",
        "                torch.save(model, model_path)  # Saving current best model\n",
        "            else:\n",
        "                patience -= 1\n",
        "                if patience == 0:\n",
        "                    print('Early stopping. Best Val roc_auc: {:.3f}'.format(best_val))\n",
        "                    break\n",
        "                \n",
        "    model = torch.load(model_path)  # Loading best model of this fold\n",
        "    model.eval()  # switch model to the evaluation mode\n",
        "    val_preds = torch.zeros((len(val_idx), 1), dtype=torch.float32, device=device)\n",
        "    with torch.no_grad():\n",
        "        # Predicting on validation set once again to obtain data for OOF\n",
        "        for j, (x_val, y_val) in enumerate(val_loader):\n",
        "            x_val[0] = torch.tensor(x_val[0], device=device, dtype=torch.float32)\n",
        "            x_val[1] = torch.tensor(x_val[1], device=device, dtype=torch.float32)\n",
        "            y_val = torch.tensor(y_val, device=device, dtype=torch.float32)\n",
        "            z_val = model(x_val[0])\n",
        "            val_pred = torch.sigmoid(z_val)\n",
        "            val_preds[j*val_loader.batch_size:j*val_loader.batch_size + x_val[0].shape[0]] = val_pred\n",
        "        oof[val_idx] = val_preds.cpu().numpy()\n",
        "        \n",
        "        # Predicting on test set\n",
        "        tta_preds = torch.zeros((len(test), 1), dtype=torch.float32, device=device)\n",
        "        for _ in range(TTA):\n",
        "            for i, x_test in enumerate(test_loader):\n",
        "                x_test[0] = torch.tensor(x_test[0], device=device, dtype=torch.float32)\n",
        "                x_test[1] = torch.tensor(x_test[1], device=device, dtype=torch.float32)\n",
        "                z_test = model(x_test[0])\n",
        "                z_test = torch.sigmoid(z_test)\n",
        "                tta_preds[i*test_loader.batch_size:i*test_loader.batch_size + x_test[0].shape[0]] += z_test\n",
        "        preds += tta_preds / TTA\n",
        "    \n",
        "preds /= skf.n_splits"
      ],
      "metadata": {
        "id": "i5JyXt2BHVFJ",
        "colab": {
          "base_uri": "https://localhost:8080/"
        },
        "outputId": "d55df715-7239-410e-d1fe-6113cd1a13d5"
      },
      "execution_count": 33,
      "outputs": [
        {
          "output_type": "stream",
          "name": "stdout",
          "text": [
            "==================== Fold 1 ====================\n",
            "Epoch 001: | Loss: 39.908 | Train acc: 0.982 | Val acc: 0.984 | Val roc_auc: 0.773 | Training time: 1:02:09\n",
            "Epoch 002: | Loss: 34.702 | Train acc: 0.982 | Val acc: 0.984 | Val roc_auc: 0.776 | Training time: 0:07:24\n",
            "==================== Fold 2 ====================\n",
            "Epoch 001: | Loss: 39.036 | Train acc: 0.982 | Val acc: 0.984 | Val roc_auc: 0.769 | Training time: 0:07:25\n",
            "Epoch 002: | Loss: 33.871 | Train acc: 0.982 | Val acc: 0.984 | Val roc_auc: 0.615 | Training time: 0:07:25\n",
            "==================== Fold 3 ====================\n",
            "Epoch 001: | Loss: 41.303 | Train acc: 0.982 | Val acc: 0.980 | Val roc_auc: 0.733 | Training time: 0:07:23\n",
            "Epoch 002: | Loss: 33.599 | Train acc: 0.983 | Val acc: 0.980 | Val roc_auc: 0.777 | Training time: 0:07:26\n",
            "==================== Fold 4 ====================\n",
            "Epoch 001: | Loss: 37.599 | Train acc: 0.982 | Val acc: 0.983 | Val roc_auc: 0.713 | Training time: 0:07:25\n",
            "Epoch 002: | Loss: 32.230 | Train acc: 0.982 | Val acc: 0.983 | Val roc_auc: 0.803 | Training time: 0:07:27\n",
            "==================== Fold 5 ====================\n",
            "Epoch 001: | Loss: 38.779 | Train acc: 0.980 | Val acc: 0.982 | Val roc_auc: 0.708 | Training time: 0:07:24\n",
            "Epoch 002: | Loss: 33.440 | Train acc: 0.982 | Val acc: 0.982 | Val roc_auc: 0.799 | Training time: 0:07:25\n"
          ]
        }
      ]
    },
    {
      "cell_type": "code",
      "source": [
        "print('OOF: {:.3f}'.format(roc_auc_score(train_df['target'], oof)))"
      ],
      "metadata": {
        "id": "PcMwRRXeHaRj",
        "colab": {
          "base_uri": "https://localhost:8080/"
        },
        "outputId": "fa2ce0ea-56fc-40ce-8920-4a26871796d3"
      },
      "execution_count": 34,
      "outputs": [
        {
          "output_type": "stream",
          "name": "stdout",
          "text": [
            "OOF: 0.785\n"
          ]
        }
      ]
    },
    {
      "cell_type": "code",
      "source": [
        "sns.kdeplot(pd.Series(preds.cpu().numpy().reshape(-1,)));"
      ],
      "metadata": {
        "id": "kAY_XimIHbCg",
        "colab": {
          "base_uri": "https://localhost:8080/",
          "height": 265
        },
        "outputId": "2274e069-e117-4f07-b225-22fd8e17c604"
      },
      "execution_count": 35,
      "outputs": [
        {
          "output_type": "display_data",
          "data": {
            "text/plain": [
              "<Figure size 432x288 with 1 Axes>"
            ],
            "image/png": "[encoded data removed]"
          },
          "metadata": {
            "needs_background": "light"
          }
        }
      ]
    },
    {
      "cell_type": "code",
      "source": [
        "# Saving OOF predictions so stacking would be easier\n",
        "pd.Series(oof.reshape(-1,)).to_csv('oof.csv', index=False)"
      ],
      "metadata": {
        "id": "oxgCrUnmHhAr"
      },
      "execution_count": 36,
      "outputs": []
    },
    {
      "cell_type": "code",
      "source": [
        "# sub = pd.read_csv('/kaggle/input/siim-isic-melanoma-classification/sample_submission.csv')\n",
        "# sub['target'] = preds.cpu().numpy().reshape(-1,)\n",
        "# sub.to_csv('submission.csv', index=False)"
      ],
      "metadata": {
        "id": "KNJVOuz2Hm2v"
      },
      "execution_count": 38,
      "outputs": []
    },
    {
      "cell_type": "code",
      "source": [],
      "metadata": {
        "id": "OD5st2PQzRxn"
      },
      "execution_count": null,
      "outputs": []
    }
  ]
}